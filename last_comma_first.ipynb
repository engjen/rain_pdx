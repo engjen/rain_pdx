{
 "cells": [
  {
   "cell_type": "markdown",
   "id": "061e475b-9cfd-4f85-b4e4-6e9b1362876a",
   "metadata": {},
   "source": [
    "# last comma first\n",
    "\n",
    "converst list of names to last, first initial. middle initial.,"
   ]
  },
  {
   "cell_type": "code",
   "execution_count": null,
   "id": "e6acdaf8-5f4c-4255-8e43-79890f207a4c",
   "metadata": {},
   "outputs": [],
   "source": [
    "from re import sub"
   ]
  },
  {
   "cell_type": "code",
   "execution_count": null,
   "id": "7f10df9c-a868-4b8f-9055-f96780366ef0",
   "metadata": {},
   "outputs": [],
   "source": [
    "#imput names as string\n",
    "ls = \"Cigdem Ak,  Zeynep Sayar,  Guillaume Thibault,  Erik A. Burlingame,  Jennifer Eng,  Alex Chitsazan,  Andrew C. Adey,  Christopher Boniface,  Paul T. Spellman,  George V. Thomas,  Ryan P. Kopp,  Emek Demir,  Young Hwan Chang,  Vasilis Stavrinides,  Sebnem Ece Eksi\"\n",
    "\n",
    "ls = \"Irene Li, Aaron Chiou, Weiruo Zhang, Yuanyuan Li, Jennifer Eng, Winston Trope, Giulia Simoni, Sushama Varma, Jalen Benson, Matthew Van De Rijn, Joseph Shrager, Michael G. Ozawa, Sylvia K. Plevritis\"\n",
    "\n",
    "ls = \"Jason M. Link1,2, Jennifer Eng1, Carl Pelz2, Kevin MacPherson1, Patrick J. Worth2,3,4, Shamaline Sivagnanam5, Dove Keith2, Sydney Owen2, Ellen M. Langer1,2,3,6,12, Alison Grossblatt-Wait2,6, Gustavo Salgado-Garza4, Allison L. Creason3,7, Sara Protzek2, Julian Egger3,7, Hannah Holly1, Michael B. Heskett8, Koei Chin3,6,7, Nell Kirchberger5, Konjit Betre5, Elmar Bucher7, David Kilburn7, Zhi Hu7, Michael W. Munks2, Isabel A. English1, Motoyuki Tsuda1, Jeremy Goecks3,7, Emek Demir2,3,7, Andrew C. Adey1,3, Adel Kardosh2,3,9, Charles D. Lopez2,3,9, Brett C. Sheppard2,3,4, Alex Guimaraes2,3,10, Brian Brinkerhoff2,11, Terry K. Morgan2,3,6,7,11, Gordon Mills2,3,12, Lisa M. Coussens2,3,5, Jonathan R. Brody2,3,4,5, Rosalie C. Sears1,2,3\"\n",
    "ls = 'Jason M. Link, Jennifer Eng, Carl Pelz, Kevin MacPherson, Patrick J. Worth, Shamaline Sivagnanam, Dove Keith, Sydney Owen, Ellen M. Langer, Alison Grossblatt-Wait, Gustavo Salgado-Garza, Allison L. Creason, Sara Protzek, Julian Egger, Hannah Holly, Michael B. Heskett, Koei Chin, Nell Kirchberger, Konjit Betre, Elmar Bucher, David Kilburn, Zhi Hu, Michael W. Munks, Isabel A. English, Motoyuki Tsuda, Jeremy Goecks, Emek Demir, Andrew C. Adey, Adel Kardosh, Charles D. Lopez, Brett C. Sheppard, Alex Guimaraes, Brian Brinkerhoff, Terry K. Morgan, Gordon Mills, Lisa M. Coussens, Jonathan R. Brody, Rosalie C. Sears'"
   ]
  },
  {
   "cell_type": "code",
   "execution_count": null,
   "id": "28e9a0d4-0191-41a7-b6e3-d9a1c8ec07f5",
   "metadata": {},
   "outputs": [],
   "source": [
    "## numeric super scripts\n",
    "if any(char.isdigit() for char in ls):\n",
    "    print('removing numbers')\n",
    "    ls = sub(\"[0-9],\", ',', ls)\n",
    "    ls = sub(\",,,,\", ',', ls)\n",
    "    ls = sub(\",,,\", ',', ls)\n",
    "    ls = sub(\",,\", ',', ls)\n",
    "    ls = sub(\",1\", '', ls)\n",
    "ls"
   ]
  },
  {
   "cell_type": "code",
   "execution_count": null,
   "id": "2f290787-c18f-418e-b72b-2765c601193c",
   "metadata": {},
   "outputs": [],
   "source": [
    "# separator\n",
    "s_split = ',  '\n",
    "s_split = ', '\n",
    "ls_name = ls.split(s_split)"
   ]
  },
  {
   "cell_type": "code",
   "execution_count": null,
   "id": "2983f65b-cd82-4a87-b199-5752cae0547b",
   "metadata": {},
   "outputs": [],
   "source": [
    "print(len(ls_name))\n",
    "ls_name"
   ]
  },
  {
   "cell_type": "code",
   "execution_count": null,
   "id": "43947cf8-feb3-44d0-b7b6-f3f8486dac02",
   "metadata": {},
   "outputs": [],
   "source": [
    "#find last name and first, middle initials\n",
    "last = [item.split(' ')[-1] for item in ls_name]\n",
    "first = [item.split(' ')[0][0] + '.' for item in ls_name]\n",
    "middle = [item.split('.')[0][-1] for item in ls_name]\n",
    "middle = [sub(\"[a-z]\", '', word) for word in middle]"
   ]
  },
  {
   "cell_type": "code",
   "execution_count": null,
   "id": "ced4983a-38d8-442a-a80f-e44b67f6b0be",
   "metadata": {},
   "outputs": [],
   "source": [
    "zip = [last[item] + ', ' + first[item] + middle[item] for item in range(len(last))]"
   ]
  },
  {
   "cell_type": "code",
   "execution_count": null,
   "id": "8504ea55-58b4-4b98-9b8d-953d6f368aa6",
   "metadata": {},
   "outputs": [],
   "source": [
    "print(', '.join(zip))"
   ]
  },
  {
   "cell_type": "code",
   "execution_count": null,
   "id": "58d508e8-f3c5-473f-bfab-cf1caea0cf2a",
   "metadata": {},
   "outputs": [],
   "source": []
  }
 ],
 "metadata": {
  "kernelspec": {
   "display_name": "Python 3 (ipykernel)",
   "language": "python",
   "name": "python3"
  },
  "language_info": {
   "codemirror_mode": {
    "name": "ipython",
    "version": 3
   },
   "file_extension": ".py",
   "mimetype": "text/x-python",
   "name": "python",
   "nbconvert_exporter": "python",
   "pygments_lexer": "ipython3",
   "version": "3.9.15"
  }
 },
 "nbformat": 4,
 "nbformat_minor": 5
}
