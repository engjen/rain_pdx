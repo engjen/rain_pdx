{
 "cells": [
  {
   "cell_type": "code",
   "execution_count": 5,
   "id": "fd81beb4-6731-4fe3-bc43-f3a6d847c5cb",
   "metadata": {},
   "outputs": [],
   "source": [
    "import pandas as pd"
   ]
  },
  {
   "cell_type": "code",
   "execution_count": 8,
   "id": "a1be9fc9-65ee-4c84-abab-f3416109e328",
   "metadata": {},
   "outputs": [],
   "source": [
    "#parents out of order\n",
    "df1 = pd.read_excel('child_parent_baby_shower.xlsx',sheet_name='disney')\n",
    "df1.loc[:,['Key','parent']].sort_values(by='Key').to_csv('disney.csv')"
   ]
  },
  {
   "cell_type": "code",
   "execution_count": 23,
   "id": "c4fc98ff-484a-43a9-ada1-6d155bd8050f",
   "metadata": {},
   "outputs": [],
   "source": [
    "#shuffle: parents in order\n",
    "df2 = pd.read_excel('child_parent_baby_shower.xlsx',sheet_name='lotr')\n",
    "df2['New_Key'] = df2.parent.map(dict(zip(df2.parent,df2.Key)))\n",
    "df2.loc[:,['New_Key','parent']].sort_values(by='New_Key').to_csv('lotr.csv')"
   ]
  },
  {
   "cell_type": "code",
   "execution_count": null,
   "id": "4c632623-7ecd-4cf7-8384-6682cf27512e",
   "metadata": {},
   "outputs": [],
   "source": []
  }
 ],
 "metadata": {
  "kernelspec": {
   "display_name": "Python 3 (ipykernel)",
   "language": "python",
   "name": "python3"
  },
  "language_info": {
   "codemirror_mode": {
    "name": "ipython",
    "version": 3
   },
   "file_extension": ".py",
   "mimetype": "text/x-python",
   "name": "python",
   "nbconvert_exporter": "python",
   "pygments_lexer": "ipython3",
   "version": "3.9.15"
  }
 },
 "nbformat": 4,
 "nbformat_minor": 5
}
