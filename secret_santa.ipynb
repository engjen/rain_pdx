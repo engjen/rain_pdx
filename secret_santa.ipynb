{
 "cells": [
  {
   "cell_type": "code",
   "execution_count": 1,
   "id": "9a0a16de-4876-44c2-b8c6-3164fa50463e",
   "metadata": {},
   "outputs": [],
   "source": [
    "# choose secret santas\n",
    "import numpy as np\n",
    "from random import choice\n",
    "from itertools import permutations\n",
    "import time\n",
    "\n",
    "def secret_santa(ls_names = ['Dad','Elizabeth','Lizzy','Daniel','Elliot','Jenny']):\n",
    "    '''\n",
    "    give enveryone in the list of names a secret santa that is not them\n",
    "    '''\n",
    "    a = np.arange(len(ls_names))\n",
    "    a_rand = np.random.choice(a,size=len(ls_names), replace=False)\n",
    "    while  (a == a_rand).sum() != 0:\n",
    "        a_rand = np.random.choice(a,size=len(ls_names), replace=False)\n",
    "    for idx, s_name in enumerate(ls_names):\n",
    "        print(f'{s_name}')\n",
    "        s_choice = (ls_names[a_rand[idx]])\n",
    "        #print(f'has {s_choice}\\n')\n",
    "        with open(f'{s_name}.txt','w') as file:\n",
    "            file.writelines([f'Dear {s_name},\\n',f'You are secret santa for {s_choice}'])\n",
    "\n",
    "\n",
    "def secret_santas(names = ['dad', 'lizzy', 'elliot', 'jenny', 'sierra', 'daniel']):\n",
    "    c = list(permutations(names, 2))\n",
    "    for n in range(len(names)):\n",
    "       pair = choice(c)\n",
    "       print(pair[0])\n",
    "       print(f'has {pair[1]}\\n')\n",
    "       c = [t for t in c if (t[0] != pair[0]) and (t[1] != pair[1])]\n",
    "    return(c)\n",
    "\n"
   ]
  },
  {
   "cell_type": "code",
   "execution_count": 2,
   "id": "13ea9f92-694e-4ced-b3c0-bf1327a285fe",
   "metadata": {},
   "outputs": [
    {
     "name": "stdout",
     "output_type": "stream",
     "text": [
      "dad\n",
      "lizzy\n",
      "elliot\n",
      "jenny\n",
      "sierra\n",
      "0.0063629150390625\n",
      "0.006445884704589844\n"
     ]
    }
   ],
   "source": [
    "names = ['dad', 'lizzy', 'elliot', 'jenny', 'sierra']#, 'daniel'\n",
    "#names = ['licorice','jazz','teto']\n",
    "#names = list(range(1000))\n",
    "t = time.time()\n",
    "secret_santa(names)\n",
    "print(time.time() - t)\n",
    "\n",
    "#t = time.time()\n",
    "#secret_santas(names)\n",
    "print(time.time() - t)"
   ]
  },
  {
   "cell_type": "code",
   "execution_count": null,
   "id": "6231b82c-761b-4097-b7c2-23cd93ffc8dd",
   "metadata": {},
   "outputs": [],
   "source": []
  }
 ],
 "metadata": {
  "kernelspec": {
   "display_name": "Python 3 (ipykernel)",
   "language": "python",
   "name": "python3"
  },
  "language_info": {
   "codemirror_mode": {
    "name": "ipython",
    "version": 3
   },
   "file_extension": ".py",
   "mimetype": "text/x-python",
   "name": "python",
   "nbconvert_exporter": "python",
   "pygments_lexer": "ipython3",
   "version": "3.9.15"
  }
 },
 "nbformat": 4,
 "nbformat_minor": 5
}
