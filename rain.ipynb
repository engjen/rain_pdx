{
 "cells": [
  {
   "cell_type": "code",
   "execution_count": null,
   "id": "abe2d329",
   "metadata": {},
   "outputs": [],
   "source": [
    "import pandas as pd\n",
    "import os, sys, re\n",
    "from urllib.request import Request, urlopen\n",
    "import matplotlib.pyplot as plt\n",
    "import seaborn as sns\n",
    "import numpy as np\n",
    "from pandas.api.types import CategoricalDtype"
   ]
  },
  {
   "cell_type": "code",
   "execution_count": null,
   "id": "10cc2f81",
   "metadata": {},
   "outputs": [],
   "source": [
    "#get html data from website\n",
    "# enter url for a rain gauge near you!\n",
    "url = \"https://or.water.usgs.gov/non-usgs/bes/vernon.rain\"\n",
    "headers = {\"User-Agent\": \"Mozilla/5.0 (Windows NT 10.0; Win64; x64) AppleWebKit/537.36 (KHTML, like Gecko) Chrome/70.0.3538.77 Safari/537.36\"}\n",
    "req = Request(url, headers=headers)\n",
    "html_page = urlopen(req).readlines()\n",
    "#Many webmasters protect themselves from crawlers. They parse User-Agent header. So when they come across an User-Agent header like urllib/VVV, they think it's a crawler.\n",
    "print(len(html_page))"
   ]
  },
  {
   "cell_type": "code",
   "execution_count": null,
   "id": "feeeb3ea",
   "metadata": {},
   "outputs": [],
   "source": [
    "# html to data frame\n",
    "data = html_page[11::]\n",
    "data = [l.decode(\"utf-8\").split('   ')[0:2] for l in data] \n",
    "df = pd.DataFrame(data, columns=['date','tips'])   # constructing dataframe\n",
    "df.tips.replace('  -',np.nan,inplace=True)\n",
    "df['inches'] = df.tips.astype('float') * 0.01\n",
    "df['year'] = [int(item.split('-')[2]) for item in df.date]\n",
    "df['month'] = [item.split('-')[1] for item in df.date]\n",
    "df['day'] = [item.split('-')[0] for item in df.date]\n",
    "df['mmm_dd'] = df['month'] + '_' + df['day']\n",
    "df['yr_mm'] = df['year'].astype('str') + '_' + df['month']"
   ]
  },
  {
   "cell_type": "code",
   "execution_count": null,
   "id": "454e79cc",
   "metadata": {},
   "outputs": [],
   "source": [
    "#calculate monthly totals, historical averages\n",
    "cutoff = 2021\n",
    "s = pd.Series(['JAN','FEB','MAR','APR', 'MAY','JUN', 'JUL', 'AUG', 'SEP','OCT', 'NOV','DEC'])\n",
    "cat_type = CategoricalDtype(categories=s,ordered=True)\n",
    "df_month = df[df.year>cutoff].groupby('yr_mm').sum(numeric_only=True).reset_index().copy()\n",
    "df_month.drop('year',axis=1,inplace=True)\n",
    "df_month['year'] = [item.split('_')[0] for item in df_month.yr_mm]\n",
    "df_month['month'] = [item.split('_')[1] for item in df_month.yr_mm]\n",
    "df_month['month'] =  df_month['month'].astype(cat_type)\n",
    "#historical\n",
    "df_history = df[df.year<=cutoff].groupby('yr_mm').sum(numeric_only=True).reset_index()\n",
    "df_history.drop('year',axis=1,inplace=True)\n",
    "df_history['year'] = [item.split('_')[0] for item in df_history.yr_mm]\n",
    "df_history['month'] = [item.split('_')[1] for item in df_history.yr_mm]\n",
    "df_history['month'] =  df_history['month'].astype(cat_type)"
   ]
  },
  {
   "cell_type": "code",
   "execution_count": null,
   "id": "3b21e0db",
   "metadata": {},
   "outputs": [],
   "source": [
    "#plot monthly totals\n",
    "fig,ax = plt.subplots(dpi=200,figsize=(10,4))\n",
    "sns.lineplot(data=df_history, x=\"month\", y=\"inches\",ax=ax,label=f'99% C.I.\\n{df_history.year.min()}-{df_history.year.max()}',\n",
    "             color='gray',linestyle='--',errorbar=('ci', 99))\n",
    "sns.pointplot(data=df_month, x=\"month\", y=\"inches\", hue=\"year\",alpha=0.8,ax=ax)\n",
    "ax.set_title(f\"{url.split('/')[-1].replace('.',' ').title()} Gauge\")\n",
    "ax.legend(bbox_to_anchor=(1,1),title='Year')\n",
    "fig.savefig('rain.png')"
   ]
  },
  {
   "cell_type": "code",
   "execution_count": null,
   "id": "d565b8d4",
   "metadata": {},
   "outputs": [],
   "source": [
    "#Plot last 30 days\n",
    "cutoff = 2023\n",
    "month_len = 30\n",
    "df_current_month = df.iloc[0:month_len][::-1].copy()\n",
    "s_months = (' to ').join(list(df_current_month.month.unique()))\n",
    "df_current_history = df[(df.year<=cutoff) & df.mmm_dd.isin(df_current_month.mmm_dd)].copy()\n",
    "df_current_history['day'] = [item.split('_')[1] for item in df_current_history.mmm_dd]\n",
    "\n",
    "#order days\n",
    "s_day = pd.Series(df_current_month.day.tolist())\n",
    "cat_type_day = CategoricalDtype(categories=s_day,ordered=True)\n",
    "df_current_history['day'] =  df_current_history['day'].astype(cat_type_day)\n",
    "\n",
    "#plot\n",
    "fig,ax = plt.subplots(dpi=200,figsize=(10,4))\n",
    "sns.lineplot(data=df_current_history, x=\"day\", y=\"inches\",ax=ax,label=f'99% C.I.\\n{df_current_history.year.min()}-{df_current_history.year.max()}',\n",
    "             color='gray',linestyle='--',errorbar=('ci', 99))#\n",
    "sns.pointplot(data=df_current_month, x=\"day\", y=\"inches\", alpha=0.8,ax=ax,label=df_current_month.year[0])#hue=\"year\",#,order=\n",
    "ax.set_title(f\"{url.split('/')[-1].replace('.',' ').title()} Gauge \\n {s_months} (last {month_len} days)\")\n",
    "#ax.legend(bbox_to_anchor=(1,1),title='Year')\n",
    "#ax.set_xticklabels(df_current_month.day)\n",
    "# #add months\n",
    "ax.text(0.01, -0.11, df_current_month.loc[month_len-1,'month'], horizontalalignment='center',\n",
    "     verticalalignment='center', transform=ax.transAxes)\n",
    "ax.text(0.99, -0.11, df_current_month.loc[0,'month'] , horizontalalignment='center',\n",
    "     verticalalignment='center', transform=ax.transAxes)\n",
    "fig.savefig('rain_current_month.png')"
   ]
  },
  {
   "cell_type": "code",
   "execution_count": null,
   "id": "1141420f-c84e-4d8b-b120-637b49bb4d51",
   "metadata": {},
   "outputs": [],
   "source": []
  }
 ],
 "metadata": {
  "kernelspec": {
   "display_name": "Python 3 (ipykernel)",
   "language": "python",
   "name": "python3"
  },
  "language_info": {
   "codemirror_mode": {
    "name": "ipython",
    "version": 3
   },
   "file_extension": ".py",
   "mimetype": "text/x-python",
   "name": "python",
   "nbconvert_exporter": "python",
   "pygments_lexer": "ipython3",
   "version": "3.9.15"
  }
 },
 "nbformat": 4,
 "nbformat_minor": 5
}
